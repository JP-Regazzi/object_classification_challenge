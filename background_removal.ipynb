{
 "cells": [
  {
   "cell_type": "code",
   "execution_count": 1,
   "metadata": {},
   "outputs": [],
   "source": [
    "from rembg import remove"
   ]
  },
  {
   "cell_type": "code",
   "execution_count": 2,
   "metadata": {},
   "outputs": [],
   "source": [
    "import cv2"
   ]
  },
  {
   "cell_type": "code",
   "execution_count": 6,
   "metadata": {},
   "outputs": [],
   "source": [
    "image_name = \"image-20210928-102713-12d2869d.jpg\"\n",
    "input_path = f\"./data/test_image_headmind/{image_name}\"\n",
    "output_path = f\"./output/{image_name}\""
   ]
  },
  {
   "cell_type": "code",
   "execution_count": 7,
   "metadata": {},
   "outputs": [
    {
     "name": "stderr",
     "output_type": "stream",
     "text": [
      "Downloading data from 'https://github.com/danielgatis/rembg/releases/download/v0.0.0/u2net.onnx' to file 'C:\\Users\\Joao Pedro\\.u2net\\u2net.onnx'.\n",
      "100%|###############################################| 176M/176M [00:00<?, ?B/s]\n"
     ]
    },
    {
     "data": {
      "text/plain": [
       "True"
      ]
     },
     "execution_count": 7,
     "metadata": {},
     "output_type": "execute_result"
    }
   ],
   "source": [
    "input = cv2.imread(input_path)\n",
    "output = remove(input)\n",
    "cv2.imwrite(output_path, output)"
   ]
  },
  {
   "cell_type": "code",
   "execution_count": 8,
   "metadata": {},
   "outputs": [],
   "source": [
    "import sys, os"
   ]
  },
  {
   "cell_type": "code",
   "execution_count": 11,
   "metadata": {},
   "outputs": [
    {
     "name": "stdout",
     "output_type": "stream",
     "text": [
      "image-20210928-102713-12d2869d.jpg\n",
      "image-20210928-102718-2474636a.jpg\n",
      "image-20210928-102721-8eaea48f.jpg\n",
      "image-20210928-102725-7e28b44c.jpg\n",
      "image-20210928-102729-f53d9faf.jpg\n",
      "image-20210928-102732-8502aded.jpg\n",
      "image-20210928-102747-05631ad4.jpg\n",
      "image-20210928-102758-fd41d453.jpg\n",
      "image-20210928-102802-39d3c54f.jpg\n",
      "image-20210928-102806-79d7094b.jpg\n",
      "image-20210928-102940-20cd277d.jpg\n",
      "image-20210928-103146-c8d2fedb.jpg\n",
      "image-20210928-103157-a46cc321.jpg\n",
      "image-20210928-103200-ce51703f.jpg\n",
      "image-20210928-103217-38e9a47d.jpg\n",
      "image-20210928-103240-bd2d326b.jpg\n",
      "image-20210928-103700-a406b29c.jpg\n",
      "image-20210928-103707-a441ed0e.jpg\n",
      "image-20210928-103731-9f1c8777.jpg\n",
      "image-20210928-103742-55a72762.jpg\n",
      "image-20210928-103754-89c16e1e.jpg\n",
      "image-20210928-103807-7573be37.jpg\n",
      "image-20210928-103810-3cb15816.jpg\n",
      "image-20210928-103825-be7929ac.jpg\n",
      "IMG_6875.jpg\n",
      "IMG_6877.jpg\n",
      "IMG_6878.jpg\n",
      "IMG_6880.jpg\n",
      "IMG_6881.jpg\n",
      "IMG_6883.jpg\n",
      "IMG_6884.jpg\n",
      "IMG_6885.jpg\n",
      "IMG_6886.jpg\n",
      "IMG_6888.jpg\n",
      "IMG_6889.jpg\n",
      "IMG_6891.jpg\n",
      "IMG_6892.jpg\n",
      "IMG_6893.jpg\n",
      "IMG_6894.jpg\n",
      "IMG_6896.jpg\n",
      "IMG_6898.jpg\n",
      "IMG_6899.jpg\n",
      "IMG_6901.jpg\n",
      "IMG_6902.jpg\n",
      "IMG_6906.jpg\n",
      "IMG_6908.jpg\n",
      "IMG_6909.jpg\n",
      "IMG_6912.jpg\n",
      "IMG_6913.jpg\n",
      "IMG_6914.jpg\n",
      "IMG_6918.jpg\n",
      "IMG_6919.jpg\n",
      "IMG_6921.jpg\n",
      "IMG_6924.jpg\n",
      "IMG_6930.jpg\n",
      "IMG_6934.jpg\n",
      "IMG_6940.jpg\n",
      "IMG_6944.jpg\n",
      "IMG_6947.jpg\n",
      "IMG_6948.jpg\n",
      "IMG_6949.jpg\n",
      "IMG_6950.jpg\n",
      "IMG_6951.jpg\n",
      "IMG_6952.jpg\n",
      "IMG_6953.jpg\n",
      "IMG_6954.jpg\n",
      "IMG_6955.jpg\n",
      "IMG_6956.jpg\n",
      "IMG_6957.jpg\n",
      "IMG_6958.jpg\n",
      "IMG_6959.jpg\n",
      "IMG_6961.jpg\n",
      "MicrosoftTeams-image_42.png\n",
      "MicrosoftTeams-image_44.png\n",
      "MicrosoftTeams-image_45.png\n",
      "MicrosoftTeams-image_46.png\n",
      "MicrosoftTeams-image_48.png\n",
      "MicrosoftTeams-image_50.png\n",
      "MicrosoftTeams-image_53.png\n",
      "MicrosoftTeams-image_54.png\n"
     ]
    }
   ],
   "source": [
    "data_path = \"./data/test_image_headmind\"\n",
    "\n",
    "for image_name in os.listdir(data_path):\n",
    "    \n",
    "    input_path = f\"./data/test_image_headmind/{image_name}\"\n",
    "    output_path = f\"./output/{image_name}\"\n",
    "    \n",
    "    input = cv2.imread(input_path)\n",
    "    output = remove(input)\n",
    "    \n",
    "    cv2.imwrite(output_path, output)"
   ]
  }
 ],
 "metadata": {
  "kernelspec": {
   "display_name": ".venv",
   "language": "python",
   "name": "python3"
  },
  "language_info": {
   "codemirror_mode": {
    "name": "ipython",
    "version": 3
   },
   "file_extension": ".py",
   "mimetype": "text/x-python",
   "name": "python",
   "nbconvert_exporter": "python",
   "pygments_lexer": "ipython3",
   "version": "3.10.5"
  }
 },
 "nbformat": 4,
 "nbformat_minor": 2
}
